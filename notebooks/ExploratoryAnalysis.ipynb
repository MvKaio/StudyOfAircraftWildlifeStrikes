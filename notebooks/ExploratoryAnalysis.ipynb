{
 "cells": [
  {
   "cell_type": "code",
   "execution_count": 29,
   "id": "de500aa6-b152-4891-a9d5-d02d70ff3177",
   "metadata": {},
   "outputs": [],
   "source": [
    "import matplotlib.pyplot as plt\n",
    "import pandas as pd\n",
    "import numpy as np\n",
    "import seaborn as sns\n",
    "import plotly.express as px"
   ]
  },
  {
   "cell_type": "code",
   "execution_count": 3,
   "id": "1d9eec84-6f92-4537-bb80-fcdabc29f393",
   "metadata": {},
   "outputs": [],
   "source": [
    "%matplotlib inline\n",
    "sns.set_theme(style=\"darkgrid\")\n",
    "plt.rcParams['figure.figsize'] = (18, 10)\n",
    "plt.rcParams['axes.titlesize'] = 16"
   ]
  },
  {
   "cell_type": "markdown",
   "id": "7ca1a57f-8fe7-4390-bc87-db3dcdfd385c",
   "metadata": {},
   "source": [
    "## Database Overview\n",
    "\n",
    "This database contains hundreds of thousands of reports damage caused by birds to aircraft over the years in the United States. Most reports contain detailed information about the incident, that can be interesting to explore."
   ]
  },
  {
   "cell_type": "code",
   "execution_count": 32,
   "id": "d91c744b-475a-4d82-8fe2-f2625849b0dc",
   "metadata": {},
   "outputs": [
    {
     "data": {
      "text/html": [
       "<div>\n",
       "<style scoped>\n",
       "    .dataframe tbody tr th:only-of-type {\n",
       "        vertical-align: middle;\n",
       "    }\n",
       "\n",
       "    .dataframe tbody tr th {\n",
       "        vertical-align: top;\n",
       "    }\n",
       "\n",
       "    .dataframe thead th {\n",
       "        text-align: right;\n",
       "    }\n",
       "</style>\n",
       "<table border=\"1\" class=\"dataframe\">\n",
       "  <thead>\n",
       "    <tr style=\"text-align: right;\">\n",
       "      <th></th>\n",
       "      <th>Record ID</th>\n",
       "      <th>Incident Year</th>\n",
       "      <th>Incident Month</th>\n",
       "      <th>Incident Day</th>\n",
       "      <th>Operator ID</th>\n",
       "      <th>Operator</th>\n",
       "      <th>Aircraft</th>\n",
       "      <th>Aircraft Type</th>\n",
       "      <th>Aircraft Make</th>\n",
       "      <th>Aircraft Model</th>\n",
       "      <th>...</th>\n",
       "      <th>Fuselage Strike</th>\n",
       "      <th>Fuselage Damage</th>\n",
       "      <th>Landing Gear Strike</th>\n",
       "      <th>Landing Gear Damage</th>\n",
       "      <th>Tail Strike</th>\n",
       "      <th>Tail Damage</th>\n",
       "      <th>Lights Strike</th>\n",
       "      <th>Lights Damage</th>\n",
       "      <th>Other Strike</th>\n",
       "      <th>Other Damage</th>\n",
       "    </tr>\n",
       "  </thead>\n",
       "  <tbody>\n",
       "    <tr>\n",
       "      <th>0</th>\n",
       "      <td>127128</td>\n",
       "      <td>1990</td>\n",
       "      <td>1</td>\n",
       "      <td>1</td>\n",
       "      <td>DAL</td>\n",
       "      <td>DELTA AIR LINES</td>\n",
       "      <td>B-757-200</td>\n",
       "      <td>A</td>\n",
       "      <td>148</td>\n",
       "      <td>26</td>\n",
       "      <td>...</td>\n",
       "      <td>0</td>\n",
       "      <td>0</td>\n",
       "      <td>0</td>\n",
       "      <td>0</td>\n",
       "      <td>1</td>\n",
       "      <td>1</td>\n",
       "      <td>0</td>\n",
       "      <td>0</td>\n",
       "      <td>0</td>\n",
       "      <td>0</td>\n",
       "    </tr>\n",
       "    <tr>\n",
       "      <th>1</th>\n",
       "      <td>129779</td>\n",
       "      <td>1990</td>\n",
       "      <td>1</td>\n",
       "      <td>1</td>\n",
       "      <td>HAL</td>\n",
       "      <td>HAWAIIAN AIR</td>\n",
       "      <td>DC-9</td>\n",
       "      <td>A</td>\n",
       "      <td>583</td>\n",
       "      <td>90</td>\n",
       "      <td>...</td>\n",
       "      <td>0</td>\n",
       "      <td>0</td>\n",
       "      <td>0</td>\n",
       "      <td>0</td>\n",
       "      <td>0</td>\n",
       "      <td>0</td>\n",
       "      <td>0</td>\n",
       "      <td>0</td>\n",
       "      <td>1</td>\n",
       "      <td>0</td>\n",
       "    </tr>\n",
       "    <tr>\n",
       "      <th>2</th>\n",
       "      <td>129780</td>\n",
       "      <td>1990</td>\n",
       "      <td>1</td>\n",
       "      <td>2</td>\n",
       "      <td>UNK</td>\n",
       "      <td>UNKNOWN</td>\n",
       "      <td>UNKNOWN</td>\n",
       "      <td>NaN</td>\n",
       "      <td>NaN</td>\n",
       "      <td>NaN</td>\n",
       "      <td>...</td>\n",
       "      <td>0</td>\n",
       "      <td>0</td>\n",
       "      <td>0</td>\n",
       "      <td>0</td>\n",
       "      <td>0</td>\n",
       "      <td>0</td>\n",
       "      <td>0</td>\n",
       "      <td>0</td>\n",
       "      <td>0</td>\n",
       "      <td>0</td>\n",
       "    </tr>\n",
       "    <tr>\n",
       "      <th>3</th>\n",
       "      <td>2258</td>\n",
       "      <td>1990</td>\n",
       "      <td>1</td>\n",
       "      <td>3</td>\n",
       "      <td>MIL</td>\n",
       "      <td>MILITARY</td>\n",
       "      <td>A-10A</td>\n",
       "      <td>A</td>\n",
       "      <td>345</td>\n",
       "      <td>NaN</td>\n",
       "      <td>...</td>\n",
       "      <td>0</td>\n",
       "      <td>0</td>\n",
       "      <td>0</td>\n",
       "      <td>0</td>\n",
       "      <td>0</td>\n",
       "      <td>0</td>\n",
       "      <td>0</td>\n",
       "      <td>0</td>\n",
       "      <td>0</td>\n",
       "      <td>0</td>\n",
       "    </tr>\n",
       "    <tr>\n",
       "      <th>4</th>\n",
       "      <td>2257</td>\n",
       "      <td>1990</td>\n",
       "      <td>1</td>\n",
       "      <td>3</td>\n",
       "      <td>MIL</td>\n",
       "      <td>MILITARY</td>\n",
       "      <td>F-16</td>\n",
       "      <td>A</td>\n",
       "      <td>561</td>\n",
       "      <td>NaN</td>\n",
       "      <td>...</td>\n",
       "      <td>0</td>\n",
       "      <td>0</td>\n",
       "      <td>0</td>\n",
       "      <td>0</td>\n",
       "      <td>0</td>\n",
       "      <td>0</td>\n",
       "      <td>0</td>\n",
       "      <td>0</td>\n",
       "      <td>0</td>\n",
       "      <td>0</td>\n",
       "    </tr>\n",
       "    <tr>\n",
       "      <th>5</th>\n",
       "      <td>129734</td>\n",
       "      <td>1990</td>\n",
       "      <td>1</td>\n",
       "      <td>4</td>\n",
       "      <td>HAL</td>\n",
       "      <td>HAWAIIAN AIR</td>\n",
       "      <td>DC-9</td>\n",
       "      <td>A</td>\n",
       "      <td>583</td>\n",
       "      <td>90</td>\n",
       "      <td>...</td>\n",
       "      <td>0</td>\n",
       "      <td>0</td>\n",
       "      <td>0</td>\n",
       "      <td>0</td>\n",
       "      <td>0</td>\n",
       "      <td>0</td>\n",
       "      <td>0</td>\n",
       "      <td>0</td>\n",
       "      <td>1</td>\n",
       "      <td>0</td>\n",
       "    </tr>\n",
       "    <tr>\n",
       "      <th>6</th>\n",
       "      <td>129735</td>\n",
       "      <td>1990</td>\n",
       "      <td>1</td>\n",
       "      <td>5</td>\n",
       "      <td>UNK</td>\n",
       "      <td>UNKNOWN</td>\n",
       "      <td>UNKNOWN</td>\n",
       "      <td>NaN</td>\n",
       "      <td>NaN</td>\n",
       "      <td>NaN</td>\n",
       "      <td>...</td>\n",
       "      <td>0</td>\n",
       "      <td>0</td>\n",
       "      <td>0</td>\n",
       "      <td>0</td>\n",
       "      <td>0</td>\n",
       "      <td>0</td>\n",
       "      <td>0</td>\n",
       "      <td>0</td>\n",
       "      <td>0</td>\n",
       "      <td>0</td>\n",
       "    </tr>\n",
       "    <tr>\n",
       "      <th>7</th>\n",
       "      <td>129736</td>\n",
       "      <td>1990</td>\n",
       "      <td>1</td>\n",
       "      <td>5</td>\n",
       "      <td>UNK</td>\n",
       "      <td>UNKNOWN</td>\n",
       "      <td>UNKNOWN</td>\n",
       "      <td>NaN</td>\n",
       "      <td>NaN</td>\n",
       "      <td>NaN</td>\n",
       "      <td>...</td>\n",
       "      <td>0</td>\n",
       "      <td>0</td>\n",
       "      <td>0</td>\n",
       "      <td>0</td>\n",
       "      <td>0</td>\n",
       "      <td>0</td>\n",
       "      <td>0</td>\n",
       "      <td>0</td>\n",
       "      <td>0</td>\n",
       "      <td>0</td>\n",
       "    </tr>\n",
       "    <tr>\n",
       "      <th>8</th>\n",
       "      <td>129737</td>\n",
       "      <td>1990</td>\n",
       "      <td>1</td>\n",
       "      <td>6</td>\n",
       "      <td>UNK</td>\n",
       "      <td>UNKNOWN</td>\n",
       "      <td>UNKNOWN</td>\n",
       "      <td>NaN</td>\n",
       "      <td>NaN</td>\n",
       "      <td>NaN</td>\n",
       "      <td>...</td>\n",
       "      <td>0</td>\n",
       "      <td>0</td>\n",
       "      <td>0</td>\n",
       "      <td>0</td>\n",
       "      <td>0</td>\n",
       "      <td>0</td>\n",
       "      <td>0</td>\n",
       "      <td>0</td>\n",
       "      <td>0</td>\n",
       "      <td>0</td>\n",
       "    </tr>\n",
       "    <tr>\n",
       "      <th>9</th>\n",
       "      <td>127848</td>\n",
       "      <td>1990</td>\n",
       "      <td>1</td>\n",
       "      <td>7</td>\n",
       "      <td>EME</td>\n",
       "      <td>METRO EXPRESS</td>\n",
       "      <td>DHC8 DASH 8</td>\n",
       "      <td>A</td>\n",
       "      <td>303</td>\n",
       "      <td>10</td>\n",
       "      <td>...</td>\n",
       "      <td>0</td>\n",
       "      <td>0</td>\n",
       "      <td>0</td>\n",
       "      <td>0</td>\n",
       "      <td>0</td>\n",
       "      <td>0</td>\n",
       "      <td>0</td>\n",
       "      <td>0</td>\n",
       "      <td>0</td>\n",
       "      <td>0</td>\n",
       "    </tr>\n",
       "  </tbody>\n",
       "</table>\n",
       "<p>10 rows × 66 columns</p>\n",
       "</div>"
      ],
      "text/plain": [
       "   Record ID  Incident Year  Incident Month  Incident Day Operator ID  \\\n",
       "0     127128           1990               1             1         DAL   \n",
       "1     129779           1990               1             1         HAL   \n",
       "2     129780           1990               1             2         UNK   \n",
       "3       2258           1990               1             3         MIL   \n",
       "4       2257           1990               1             3         MIL   \n",
       "5     129734           1990               1             4         HAL   \n",
       "6     129735           1990               1             5         UNK   \n",
       "7     129736           1990               1             5         UNK   \n",
       "8     129737           1990               1             6         UNK   \n",
       "9     127848           1990               1             7         EME   \n",
       "\n",
       "          Operator     Aircraft Aircraft Type Aircraft Make Aircraft Model  \\\n",
       "0  DELTA AIR LINES    B-757-200             A           148             26   \n",
       "1     HAWAIIAN AIR         DC-9             A           583             90   \n",
       "2          UNKNOWN      UNKNOWN           NaN           NaN            NaN   \n",
       "3         MILITARY        A-10A             A           345            NaN   \n",
       "4         MILITARY         F-16             A           561            NaN   \n",
       "5     HAWAIIAN AIR         DC-9             A           583             90   \n",
       "6          UNKNOWN      UNKNOWN           NaN           NaN            NaN   \n",
       "7          UNKNOWN      UNKNOWN           NaN           NaN            NaN   \n",
       "8          UNKNOWN      UNKNOWN           NaN           NaN            NaN   \n",
       "9    METRO EXPRESS  DHC8 DASH 8             A           303             10   \n",
       "\n",
       "   ...  Fuselage Strike  Fuselage Damage Landing Gear Strike  \\\n",
       "0  ...                0                0                   0   \n",
       "1  ...                0                0                   0   \n",
       "2  ...                0                0                   0   \n",
       "3  ...                0                0                   0   \n",
       "4  ...                0                0                   0   \n",
       "5  ...                0                0                   0   \n",
       "6  ...                0                0                   0   \n",
       "7  ...                0                0                   0   \n",
       "8  ...                0                0                   0   \n",
       "9  ...                0                0                   0   \n",
       "\n",
       "   Landing Gear Damage Tail Strike Tail Damage  Lights Strike Lights Damage  \\\n",
       "0                    0           1           1              0             0   \n",
       "1                    0           0           0              0             0   \n",
       "2                    0           0           0              0             0   \n",
       "3                    0           0           0              0             0   \n",
       "4                    0           0           0              0             0   \n",
       "5                    0           0           0              0             0   \n",
       "6                    0           0           0              0             0   \n",
       "7                    0           0           0              0             0   \n",
       "8                    0           0           0              0             0   \n",
       "9                    0           0           0              0             0   \n",
       "\n",
       "   Other Strike Other Damage  \n",
       "0             0            0  \n",
       "1             1            0  \n",
       "2             0            0  \n",
       "3             0            0  \n",
       "4             0            0  \n",
       "5             1            0  \n",
       "6             0            0  \n",
       "7             0            0  \n",
       "8             0            0  \n",
       "9             0            0  \n",
       "\n",
       "[10 rows x 66 columns]"
      ]
     },
     "execution_count": 32,
     "metadata": {},
     "output_type": "execute_result"
    }
   ],
   "source": [
    "typeSpecification = {\"Aircraft Model\": str, \"Engine Model\": str, \"Engine3 Position\": str, \"Engine1 Position\": str}\n",
    "df = pd.read_csv('../database/aircraft_wildlife_strikes.zip', compression='zip', dtype=typeSpecification)\n",
    "df.head(10)"
   ]
  },
  {
   "cell_type": "markdown",
   "id": "8b9a6ca1",
   "metadata": {},
   "source": [
    "There is a lot of information on this database, so we need to know more about the data. Taking a look at the columns can give some ideas. It is worth noting that many columns have `null` values, which should be considered in any experiments."
   ]
  },
  {
   "cell_type": "code",
   "execution_count": 33,
   "id": "5e9a7097",
   "metadata": {},
   "outputs": [
    {
     "name": "stdout",
     "output_type": "stream",
     "text": [
      "<class 'pandas.core.frame.DataFrame'>\n",
      "RangeIndex: 174104 entries, 0 to 174103\n",
      "Data columns (total 66 columns):\n",
      " #   Column                Non-Null Count   Dtype  \n",
      "---  ------                --------------   -----  \n",
      " 0   Record ID             174104 non-null  int64  \n",
      " 1   Incident Year         174104 non-null  int64  \n",
      " 2   Incident Month        174104 non-null  int64  \n",
      " 3   Incident Day          174104 non-null  int64  \n",
      " 4   Operator ID           174104 non-null  object \n",
      " 5   Operator              174104 non-null  object \n",
      " 6   Aircraft              174104 non-null  object \n",
      " 7   Aircraft Type         133074 non-null  object \n",
      " 8   Aircraft Make         131051 non-null  object \n",
      " 9   Aircraft Model        122439 non-null  object \n",
      " 10  Aircraft Mass         127320 non-null  float64\n",
      " 11  Engine Make           123434 non-null  float64\n",
      " 12  Engine Model          121988 non-null  object \n",
      " 13  Engines               127342 non-null  float64\n",
      " 14  Engine Type           127282 non-null  object \n",
      " 15  Engine1 Position      126193 non-null  object \n",
      " 16  Engine2 Position      118715 non-null  float64\n",
      " 17  Engine3 Position      11659 non-null   object \n",
      " 18  Engine4 Position      3092 non-null    float64\n",
      " 19  Airport ID            174104 non-null  object \n",
      " 20  Airport               173814 non-null  object \n",
      " 21  State                 152128 non-null  object \n",
      " 22  FAA Region            155202 non-null  object \n",
      " 23  Warning Issued        76418 non-null   object \n",
      " 24  Flight Phase          118802 non-null  object \n",
      " 25  Visibility            109933 non-null  object \n",
      " 26  Precipitation         88322 non-null   object \n",
      " 27  Height                103677 non-null  float64\n",
      " 28  Speed                 71258 non-null   float64\n",
      " 29  Distance              99713 non-null   float64\n",
      " 30  Species ID            174104 non-null  object \n",
      " 31  Species Name          174024 non-null  object \n",
      " 32  Species Quantity      169627 non-null  object \n",
      " 33  Flight Impact         99465 non-null   object \n",
      " 34  Fatalities            565 non-null     float64\n",
      " 35  Injuries              229 non-null     float64\n",
      " 36  Aircraft Damage       174104 non-null  int64  \n",
      " 37  Radome Strike         174104 non-null  int64  \n",
      " 38  Radome Damage         174104 non-null  int64  \n",
      " 39  Windshield Strike     174104 non-null  int64  \n",
      " 40  Windshield Damage     174104 non-null  int64  \n",
      " 41  Nose Strike           174104 non-null  int64  \n",
      " 42  Nose Damage           174104 non-null  int64  \n",
      " 43  Engine1 Strike        174104 non-null  int64  \n",
      " 44  Engine1 Damage        174104 non-null  int64  \n",
      " 45  Engine2 Strike        174104 non-null  int64  \n",
      " 46  Engine2 Damage        174104 non-null  int64  \n",
      " 47  Engine3 Strike        174104 non-null  int64  \n",
      " 48  Engine3 Damage        174104 non-null  int64  \n",
      " 49  Engine4 Strike        174104 non-null  int64  \n",
      " 50  Engine4 Damage        174104 non-null  int64  \n",
      " 51  Engine Ingested       174104 non-null  int64  \n",
      " 52  Propeller Strike      174104 non-null  int64  \n",
      " 53  Propeller Damage      174104 non-null  int64  \n",
      " 54  Wing or Rotor Strike  174104 non-null  int64  \n",
      " 55  Wing or Rotor Damage  174104 non-null  int64  \n",
      " 56  Fuselage Strike       174104 non-null  int64  \n",
      " 57  Fuselage Damage       174104 non-null  int64  \n",
      " 58  Landing Gear Strike   174104 non-null  int64  \n",
      " 59  Landing Gear Damage   174104 non-null  int64  \n",
      " 60  Tail Strike           174104 non-null  int64  \n",
      " 61  Tail Damage           174104 non-null  int64  \n",
      " 62  Lights Strike         174104 non-null  int64  \n",
      " 63  Lights Damage         174104 non-null  int64  \n",
      " 64  Other Strike          174104 non-null  int64  \n",
      " 65  Other Damage          174104 non-null  int64  \n",
      "dtypes: float64(10), int64(34), object(22)\n",
      "memory usage: 87.7+ MB\n"
     ]
    }
   ],
   "source": [
    "df.info()"
   ]
  },
  {
   "cell_type": "code",
   "execution_count": 6,
   "id": "8967c501-bb7c-4d14-af4e-879084511223",
   "metadata": {},
   "outputs": [
    {
     "data": {
      "image/png": "[encoded data removed]",
      "text/plain": [
       "<Figure size 1296x720 with 1 Axes>"
      ]
     },
     "metadata": {},
     "output_type": "display_data"
    }
   ],
   "source": [
    "incidents_by_years = (df.groupby('Incident Year')\n",
    "                      .agg({'Record ID': 'count'}).reset_index()\n",
    "                      .rename(columns={'Record ID': 'Count', 'Incident Year': 'Year'}))\n",
    "sns.barplot(data=incidents_by_years, x='Year', y='Count')\n",
    "plt.title('Number of strikes reported over the years')\n",
    "plt.show()"
   ]
  },
  {
   "cell_type": "markdown",
   "id": "73abb28d-76e9-484e-95c2-c9f679ff34fa",
   "metadata": {},
   "source": [
    "We can observe a predominant increase in the number of reports over the years. Looking more carefully to the records of 2015, we note that there is no incident reported since `October`, which strongly indicates that the data collected since then wasn't included in the database."
   ]
  },
  {
   "cell_type": "code",
   "execution_count": 7,
   "id": "2e9cad6a-9ab8-41a0-a6f7-278d2c7a84ea",
   "metadata": {},
   "outputs": [
    {
     "data": {
      "text/plain": [
       "array([1, 2, 3, 4, 5, 6, 7, 8, 9])"
      ]
     },
     "execution_count": 7,
     "metadata": {},
     "output_type": "execute_result"
    }
   ],
   "source": [
    "df.query(\"`Incident Year` == 2015\")[\"Incident Month\"].unique()"
   ]
  },
  {
   "cell_type": "markdown",
   "id": "d92997d6-6c8f-4019-b299-453061faa7ed",
   "metadata": {},
   "source": [
    "### Which Bird Species are the most common in accidents?"
   ]
  },
  {
   "cell_type": "code",
   "execution_count": 8,
   "id": "7efec135-43d9-4827-bc10-7a787b0b3998",
   "metadata": {},
   "outputs": [
    {
     "data": {
      "image/png": "[encoded data removed]",
      "text/plain": [
       "<Figure size 1296x720 with 1 Axes>"
      ]
     },
     "metadata": {},
     "output_type": "display_data"
    }
   ],
   "source": [
    "# Grouping accidents by Species, ordered by number of reports\n",
    "birdSpecies: pd.DataFrame = df.groupby('Species ID').agg({'Record ID': 'count', 'Species Name': 'unique'}).sort_values('Record ID', ascending=False).reset_index()\n",
    "# Grabbing the Name of the species\n",
    "birdSpecies['Species Name']: pd.Series = birdSpecies['Species Name'].apply(lambda x: x[0])\n",
    "# Removing Unknown Birds\n",
    "birdSpecies.dropna(inplace=True)\n",
    "birdSpecies: pd.DataFrame = birdSpecies[birdSpecies['Species Name'].str.startswith('UNKNOWN') == False]\n",
    "# Plotting\n",
    "birdSpecies.rename(columns={'Record ID': 'Count'}, inplace=True)\n",
    "sns.barplot(data=birdSpecies[:10], y='Species Name', x='Count')\n",
    "plt.title('Top 10 reported Bird Species')\n",
    "plt.show()"
   ]
  },
  {
   "cell_type": "code",
   "execution_count": 9,
   "id": "d5dab323",
   "metadata": {},
   "outputs": [
    {
     "data": {
      "text/html": [
       "<div>\n",
       "<style scoped>\n",
       "    .dataframe tbody tr th:only-of-type {\n",
       "        vertical-align: middle;\n",
       "    }\n",
       "\n",
       "    .dataframe tbody tr th {\n",
       "        vertical-align: top;\n",
       "    }\n",
       "\n",
       "    .dataframe thead th {\n",
       "        text-align: right;\n",
       "    }\n",
       "</style>\n",
       "<table border=\"1\" class=\"dataframe\">\n",
       "  <thead>\n",
       "    <tr style=\"text-align: right;\">\n",
       "      <th></th>\n",
       "      <th>Species ID</th>\n",
       "      <th>Count</th>\n",
       "      <th>Species Name</th>\n",
       "      <th>Relative Percentage</th>\n",
       "      <th>Absolute Percentage</th>\n",
       "    </tr>\n",
       "  </thead>\n",
       "  <tbody>\n",
       "    <tr>\n",
       "      <th>2</th>\n",
       "      <td>O2205</td>\n",
       "      <td>7653</td>\n",
       "      <td>MOURNING DOVE</td>\n",
       "      <td>1.000000</td>\n",
       "      <td>0.082089</td>\n",
       "    </tr>\n",
       "    <tr>\n",
       "      <th>3</th>\n",
       "      <td>NE1</td>\n",
       "      <td>6580</td>\n",
       "      <td>GULL</td>\n",
       "      <td>0.859794</td>\n",
       "      <td>0.070580</td>\n",
       "    </tr>\n",
       "    <tr>\n",
       "      <th>5</th>\n",
       "      <td>N5111</td>\n",
       "      <td>4562</td>\n",
       "      <td>KILLDEER</td>\n",
       "      <td>0.596106</td>\n",
       "      <td>0.048934</td>\n",
       "    </tr>\n",
       "    <tr>\n",
       "      <th>6</th>\n",
       "      <td>K5114</td>\n",
       "      <td>4476</td>\n",
       "      <td>AMERICAN KESTREL</td>\n",
       "      <td>0.584869</td>\n",
       "      <td>0.048011</td>\n",
       "    </tr>\n",
       "    <tr>\n",
       "      <th>7</th>\n",
       "      <td>YI005</td>\n",
       "      <td>4215</td>\n",
       "      <td>BARN SWALLOW</td>\n",
       "      <td>0.550764</td>\n",
       "      <td>0.045212</td>\n",
       "    </tr>\n",
       "    <tr>\n",
       "      <th>8</th>\n",
       "      <td>YH004</td>\n",
       "      <td>3952</td>\n",
       "      <td>HORNED LARK</td>\n",
       "      <td>0.516399</td>\n",
       "      <td>0.042391</td>\n",
       "    </tr>\n",
       "    <tr>\n",
       "      <th>9</th>\n",
       "      <td>YL001</td>\n",
       "      <td>3915</td>\n",
       "      <td>EUROPEAN STARLING</td>\n",
       "      <td>0.511564</td>\n",
       "      <td>0.041994</td>\n",
       "    </tr>\n",
       "    <tr>\n",
       "      <th>10</th>\n",
       "      <td>ZX3</td>\n",
       "      <td>3152</td>\n",
       "      <td>SPARROW</td>\n",
       "      <td>0.411865</td>\n",
       "      <td>0.033810</td>\n",
       "    </tr>\n",
       "    <tr>\n",
       "      <th>11</th>\n",
       "      <td>O2111</td>\n",
       "      <td>2893</td>\n",
       "      <td>ROCK PIGEON</td>\n",
       "      <td>0.378022</td>\n",
       "      <td>0.031031</td>\n",
       "    </tr>\n",
       "    <tr>\n",
       "      <th>13</th>\n",
       "      <td>K3302</td>\n",
       "      <td>2254</td>\n",
       "      <td>RED-TAILED HAWK</td>\n",
       "      <td>0.294525</td>\n",
       "      <td>0.024177</td>\n",
       "    </tr>\n",
       "  </tbody>\n",
       "</table>\n",
       "</div>"
      ],
      "text/plain": [
       "   Species ID  Count       Species Name  Relative Percentage  \\\n",
       "2       O2205   7653      MOURNING DOVE             1.000000   \n",
       "3         NE1   6580               GULL             0.859794   \n",
       "5       N5111   4562           KILLDEER             0.596106   \n",
       "6       K5114   4476   AMERICAN KESTREL             0.584869   \n",
       "7       YI005   4215       BARN SWALLOW             0.550764   \n",
       "8       YH004   3952        HORNED LARK             0.516399   \n",
       "9       YL001   3915  EUROPEAN STARLING             0.511564   \n",
       "10        ZX3   3152            SPARROW             0.411865   \n",
       "11      O2111   2893        ROCK PIGEON             0.378022   \n",
       "13      K3302   2254    RED-TAILED HAWK             0.294525   \n",
       "\n",
       "    Absolute Percentage  \n",
       "2              0.082089  \n",
       "3              0.070580  \n",
       "5              0.048934  \n",
       "6              0.048011  \n",
       "7              0.045212  \n",
       "8              0.042391  \n",
       "9              0.041994  \n",
       "10             0.033810  \n",
       "11             0.031031  \n",
       "13             0.024177  "
      ]
     },
     "execution_count": 9,
     "metadata": {},
     "output_type": "execute_result"
    }
   ],
   "source": [
    "birdSpecies[\"Relative Percentage\"]: pd.Series = birdSpecies[\"Count\"] / int(birdSpecies[birdSpecies[\"Species Name\"] == \"MOURNING DOVE\"][\"Count\"])\n",
    "birdSpecies[\"Absolute Percentage\"]: pd.Series = birdSpecies[\"Count\"] / birdSpecies[\"Count\"].sum()\n",
    "birdSpecies.head(10)"
   ]
  },
  {
   "cell_type": "markdown",
   "id": "185cafb3",
   "metadata": {},
   "source": [
    "Mourning dove is the most common bird reported by a wide margin, being ~14.1% more common than the gull and ~40.4% more common than the killdeer. However, it is present only on 8% of reports, meaning there are other species that are not as invovlved in many accidents as the mourning dove, but they are still relevant in data analysis."
   ]
  },
  {
   "cell_type": "markdown",
   "id": "19afd2e3-4391-4237-8ade-5c1c3f1c5ed8",
   "metadata": {},
   "source": [
    "### In general, what aircraft parts are more affected?"
   ]
  },
  {
   "cell_type": "code",
   "execution_count": 10,
   "id": "cfb92c67-57ab-441e-82e1-ddf598d98319",
   "metadata": {},
   "outputs": [
    {
     "data": {
      "image/png": "[encoded data removed]",
      "text/plain": [
       "<Figure size 1296x1440 with 2 Axes>"
      ]
     },
     "metadata": {},
     "output_type": "display_data"
    }
   ],
   "source": [
    "# Selecting the data about aircraft parts\n",
    "aircraft_parts =  [\"Radome\", \"Windshield\", \"Nose\", \"Engine1\", \"Engine2\", \"Engine3\", \"Engine4\", \"Propeller\", \"Wing or Rotor\", \"Fuselage\", \"Landing Gear\", \"Tail\", \"Lights\", \"Other\"]\n",
    "aircraft_strikes = list(map(lambda x: x + \" Strike\", aircraft_parts))\n",
    "aircraft_damages = list(map(lambda x: x + \" Damage\", aircraft_parts))\n",
    "\n",
    "damages_count = [ np.count_nonzero(df[aircraft_damages[i]].values) for i in range(len(aircraft_parts))]\n",
    "strikes_count = [ np.count_nonzero(df[aircraft_strikes[i]].values) for i in range(len(aircraft_parts))]\n",
    "\n",
    "# Ordering aircraft parts\n",
    "def bubble_sort(x, labels):\n",
    "    x = x.copy()\n",
    "    labels = labels.copy()\n",
    "    n = len(x)\n",
    "    for i in range(n):\n",
    "        for j in range(i, n):\n",
    "            if x[i] < x[j]:\n",
    "                x[j], x[i] = x[i], x[j]\n",
    "                labels[j], labels[i] = labels[i], labels[j]\n",
    "    return x, labels\n",
    "\n",
    "damages_count, damages_order = bubble_sort(damages_count, aircraft_parts)\n",
    "strikes_count, strikes_order = bubble_sort(strikes_count, aircraft_parts)\n",
    "\n",
    "fig, ax = plt.subplots(2, 1, figsize = (18, 20))\n",
    "\n",
    "sns.barplot(x = strikes_order, y = strikes_count, ax = ax[0])\n",
    "sns.barplot(x = damages_order, y = damages_count, ax = ax[1])\n",
    "\n",
    "ax[0].set(title=\"Number of strikes involving each aircraft part\")\n",
    "ax[1].set(title=\"Number of accidents that damaged each aircraft part\")\n",
    "plt.show()"
   ]
  },
  {
   "cell_type": "markdown",
   "id": "e5732a6a-4bb8-4447-9c27-73faf9131eac",
   "metadata": {},
   "source": [
    "### In which Flight Phases are accidents more common?"
   ]
  },
  {
   "cell_type": "markdown",
   "id": "ce1c7317",
   "metadata": {},
   "source": [
    "There are flight phases when the plane is way above most bird's common flying height, so it's uncommon to have strikes where the bird density is low. However, there should be more strikes when the plane is flying at the height where most birds are."
   ]
  },
  {
   "cell_type": "code",
   "execution_count": 11,
   "id": "30b80feb-fa40-4951-91d8-0d85e4e3042b",
   "metadata": {},
   "outputs": [
    {
     "data": {
      "image/png": "[encoded data removed]",
      "text/plain": [
       "<Figure size 1296x720 with 1 Axes>"
      ]
     },
     "metadata": {},
     "output_type": "display_data"
    }
   ],
   "source": [
    "# Drop nulls\n",
    "flightPhases = df[['Record ID', 'Flight Phase']].dropna().groupby('Flight Phase').agg({'Record ID': 'count'}).reset_index().rename(columns={'Record ID': 'Count'}).sort_values('Count')\n",
    "sns.barplot(data=flightPhases, x='Flight Phase', y='Count')\n",
    "plt.title('Number of strikes reported over the years')\n",
    "plt.show()"
   ]
  },
  {
   "cell_type": "markdown",
   "id": "ada6e981",
   "metadata": {},
   "source": [
    "According to the figure below from [Flight Loads Analysis of Business Jets](https://www.researchgate.net/publication/315113895_Flight_Loads_Analysis_of_Business_Jets) from [Kamran Rokhsaz](https://www.researchgate.net/profile/Kamran-Rokhsaz) and [Linda K. Kliment](https://www.researchgate.net/scientific-contributions/Linda-K-Kliment-2009566973), we can conclude that most strikes happen next to the landing stages, while it's uncommon for strikes to happen when the plane is on the ground.\n",
    "\n",
    "*Note: Cruise and En route are different names to the same flight phase.* \n",
    "\n",
    "![](https://i.imgur.com/oRxoroQ.png)"
   ]
  },
  {
   "cell_type": "markdown",
   "id": "ee6552cd-52b5-4dab-8cbd-7f2440568ef3",
   "metadata": {},
   "source": [
    "### Which States suffer more with Wildlife Aircraft Strikes?"
   ]
  },
  {
   "cell_type": "code",
   "execution_count": 12,
   "id": "9d10c315-02c7-49e9-a4a2-b9ff7385778b",
   "metadata": {},
   "outputs": [
    {
     "data": {
      "application/vnd.plotly.v1+json": {
       "config": {
        "plotlyServerURL": "https://plot.ly"
       },
       "data": [
        {
         "coloraxis": "coloraxis",
         "geo": "geo",
         "hovertemplate": "State=%{location}<br>Count=%{z}<extra></extra>",
         "locationmode": "USA-states",
         "locations": [
          "AB",
          "AK",
          "AL",
          "AR",
          "AZ",
          "BC",
          "CA",
          "CO",
          "CT",
          "DC",
          "DE",
          "FL",
          "GA",
          "HI",
          "IA",
          "ID",
          "IL",
          "IN",
          "KS",
          "KY",
          "LA",
          "MA",
          "MB",
          "MD",
          "ME",
          "MI",
          "MN",
          "MO",
          "MS",
          "MT",
          "NC",
          "ND",
          "NE",
          "NH",
          "NJ",
          "NL",
          "NM",
          "NS",
          "NV",
          "NY",
          "OH",
          "OK",
          "ON",
          "OR",
          "PA",
          "PI",
          "PR",
          "QC",
          "RI",
          "SC",
          "SD",
          "SK",
          "TN",
          "TX",
          "UT",
          "VA",
          "VI",
          "VT",
          "WA",
          "WI",
          "WV",
          "WY"
         ],
         "name": "",
         "type": "choropleth",
         "z": [
          47,
          1010,
          1414,
          837,
          2455,
          109,
          13187,
          6965,
          1558,
          2950,
          166,
          10604,
          2650,
          3605,
          1137,
          459,
          7465,
          2446,
          694,
          3869,
          2768,
          2292,
          14,
          1928,
          599,
          3928,
          1876,
          3870,
          884,
          338,
          3052,
          722,
          1847,
          945,
          4800,
          7,
          534,
          5,
          745,
          9043,
          5503,
          1705,
          157,
          2475,
          5604,
          369,
          274,
          56,
          730,
          1330,
          538,
          6,
          5000,
          14854,
          2398,
          1910,
          133,
          266,
          2507,
          1810,
          497,
          182
         ]
        }
       ],
       "layout": {
        "autosize": false,
        "coloraxis": {
         "colorbar": {
          "title": {
           "text": "Count"
          }
         },
         "colorscale": [
          [
           0,
           "rgb(255, 198, 196)"
          ],
          [
           0.16666666666666666,
           "rgb(244, 163, 168)"
          ],
          [
           0.3333333333333333,
           "rgb(227, 129, 145)"
          ],
          [
           0.5,
           "rgb(204, 96, 125)"
          ],
          [
           0.6666666666666666,
           "rgb(173, 70, 108)"
          ],
          [
           0.8333333333333334,
           "rgb(139, 48, 88)"
          ],
          [
           1,
           "rgb(103, 32, 68)"
          ]
         ]
        },
        "font": {
         "size": 18
        },
        "geo": {
         "center": {},
         "domain": {
          "x": [
           0,
           1
          ],
          "y": [
           0,
           1
          ]
         },
         "scope": "usa"
        },
        "height": 600,
        "legend": {
         "tracegroupgap": 0
        },
        "template": {
         "data": {
          "bar": [
           {
            "error_x": {
             "color": "#2a3f5f"
            },
            "error_y": {
             "color": "#2a3f5f"
            },
            "marker": {
             "line": {
              "color": "#E5ECF6",
              "width": 0.5
             },
             "pattern": {
              "fillmode": "overlay",
              "size": 10,
              "solidity": 0.2
             }
            },
            "type": "bar"
           }
          ],
          "barpolar": [
           {
            "marker": {
             "line": {
              "color": "#E5ECF6",
              "width": 0.5
             },
             "pattern": {
              "fillmode": "overlay",
              "size": 10,
              "solidity": 0.2
             }
            },
            "type": "barpolar"
           }
          ],
          "carpet": [
           {
            "aaxis": {
             "endlinecolor": "#2a3f5f",
             "gridcolor": "white",
             "linecolor": "white",
             "minorgridcolor": "white",
             "startlinecolor": "#2a3f5f"
            },
            "baxis": {
             "endlinecolor": "#2a3f5f",
             "gridcolor": "white",
             "linecolor": "white",
             "minorgridcolor": "white",
             "startlinecolor": "#2a3f5f"
            },
            "type": "carpet"
           }
          ],
          "choropleth": [
           {
            "colorbar": {
             "outlinewidth": 0,
             "ticks": ""
            },
            "type": "choropleth"
           }
          ],
          "contour": [
           {
            "colorbar": {
             "outlinewidth": 0,
             "ticks": ""
            },
            "colorscale": [
             [
              0,
              "#0d0887"
             ],
             [
              0.1111111111111111,
              "#46039f"
             ],
             [
              0.2222222222222222,
              "#7201a8"
             ],
             [
              0.3333333333333333,
              "#9c179e"
             ],
             [
              0.4444444444444444,
              "#bd3786"
             ],
             [
              0.5555555555555556,
              "#d8576b"
             ],
             [
              0.6666666666666666,
              "#ed7953"
             ],
             [
              0.7777777777777778,
              "#fb9f3a"
             ],
             [
              0.8888888888888888,
              "#fdca26"
             ],
             [
              1,
              "#f0f921"
             ]
            ],
            "type": "contour"
           }
          ],
          "contourcarpet": [
           {
            "colorbar": {
             "outlinewidth": 0,
             "ticks": ""
            },
            "type": "contourcarpet"
           }
          ],
          "heatmap": [
           {
            "colorbar": {
             "outlinewidth": 0,
             "ticks": ""
            },
            "colorscale": [
             [
              0,
              "#0d0887"
             ],
             [
              0.1111111111111111,
              "#46039f"
             ],
             [
              0.2222222222222222,
              "#7201a8"
             ],
             [
              0.3333333333333333,
              "#9c179e"
             ],
             [
              0.4444444444444444,
              "#bd3786"
             ],
             [
              0.5555555555555556,
              "#d8576b"
             ],
             [
              0.6666666666666666,
              "#ed7953"
             ],
             [
              0.7777777777777778,
              "#fb9f3a"
             ],
             [
              0.8888888888888888,
              "#fdca26"
             ],
             [
              1,
              "#f0f921"
             ]
            ],
            "type": "heatmap"
           }
          ],
          "heatmapgl": [
           {
            "colorbar": {
             "outlinewidth": 0,
             "ticks": ""
            },
            "colorscale": [
             [
              0,
              "#0d0887"
             ],
             [
              0.1111111111111111,
              "#46039f"
             ],
             [
              0.2222222222222222,
              "#7201a8"
             ],
             [
              0.3333333333333333,
              "#9c179e"
             ],
             [
              0.4444444444444444,
              "#bd3786"
             ],
             [
              0.5555555555555556,
              "#d8576b"
             ],
             [
              0.6666666666666666,
              "#ed7953"
             ],
             [
              0.7777777777777778,
              "#fb9f3a"
             ],
             [
              0.8888888888888888,
              "#fdca26"
             ],
             [
              1,
              "#f0f921"
             ]
            ],
            "type": "heatmapgl"
           }
          ],
          "histogram": [
           {
            "marker": {
             "pattern": {
              "fillmode": "overlay",
              "size": 10,
              "solidity": 0.2
             }
            },
            "type": "histogram"
           }
          ],
          "histogram2d": [
           {
            "colorbar": {
             "outlinewidth": 0,
             "ticks": ""
            },
            "colorscale": [
             [
              0,
              "#0d0887"
             ],
             [
              0.1111111111111111,
              "#46039f"
             ],
             [
              0.2222222222222222,
              "#7201a8"
             ],
             [
              0.3333333333333333,
              "#9c179e"
             ],
             [
              0.4444444444444444,
              "#bd3786"
             ],
             [
              0.5555555555555556,
              "#d8576b"
             ],
             [
              0.6666666666666666,
              "#ed7953"
             ],
             [
              0.7777777777777778,
              "#fb9f3a"
             ],
             [
              0.8888888888888888,
              "#fdca26"
             ],
             [
              1,
              "#f0f921"
             ]
            ],
            "type": "histogram2d"
           }
          ],
          "histogram2dcontour": [
           {
            "colorbar": {
             "outlinewidth": 0,
             "ticks": ""
            },
            "colorscale": [
             [
              0,
              "#0d0887"
             ],
             [
              0.1111111111111111,
              "#46039f"
             ],
             [
              0.2222222222222222,
              "#7201a8"
             ],
             [
              0.3333333333333333,
              "#9c179e"
             ],
             [
              0.4444444444444444,
              "#bd3786"
             ],
             [
              0.5555555555555556,
              "#d8576b"
             ],
             [
              0.6666666666666666,
              "#ed7953"
             ],
             [
              0.7777777777777778,
              "#fb9f3a"
             ],
             [
              0.8888888888888888,
              "#fdca26"
             ],
             [
              1,
              "#f0f921"
             ]
            ],
            "type": "histogram2dcontour"
           }
          ],
          "mesh3d": [
           {
            "colorbar": {
             "outlinewidth": 0,
             "ticks": ""
            },
            "type": "mesh3d"
           }
          ],
          "parcoords": [
           {
            "line": {
             "colorbar": {
              "outlinewidth": 0,
              "ticks": ""
             }
            },
            "type": "parcoords"
           }
          ],
          "pie": [
           {
            "automargin": true,
            "type": "pie"
           }
          ],
          "scatter": [
           {
            "fillpattern": {
             "fillmode": "overlay",
             "size": 10,
             "solidity": 0.2
            },
            "type": "scatter"
           }
          ],
          "scatter3d": [
           {
            "line": {
             "colorbar": {
              "outlinewidth": 0,
              "ticks": ""
             }
            },
            "marker": {
             "colorbar": {
              "outlinewidth": 0,
              "ticks": ""
             }
            },
            "type": "scatter3d"
           }
          ],
          "scattercarpet": [
           {
            "marker": {
             "colorbar": {
              "outlinewidth": 0,
              "ticks": ""
             }
            },
            "type": "scattercarpet"
           }
          ],
          "scattergeo": [
           {
            "marker": {
             "colorbar": {
              "outlinewidth": 0,
              "ticks": ""
             }
            },
            "type": "scattergeo"
           }
          ],
          "scattergl": [
           {
            "marker": {
             "colorbar": {
              "outlinewidth": 0,
              "ticks": ""
             }
            },
            "type": "scattergl"
           }
          ],
          "scattermapbox": [
           {
            "marker": {
             "colorbar": {
              "outlinewidth": 0,
              "ticks": ""
             }
            },
            "type": "scattermapbox"
           }
          ],
          "scatterpolar": [
           {
            "marker": {
             "colorbar": {
              "outlinewidth": 0,
              "ticks": ""
             }
            },
            "type": "scatterpolar"
           }
          ],
          "scatterpolargl": [
           {
            "marker": {
             "colorbar": {
              "outlinewidth": 0,
              "ticks": ""
             }
            },
            "type": "scatterpolargl"
           }
          ],
          "scatterternary": [
           {
            "marker": {
             "colorbar": {
              "outlinewidth": 0,
              "ticks": ""
             }
            },
            "type": "scatterternary"
           }
          ],
          "surface": [
           {
            "colorbar": {
             "outlinewidth": 0,
             "ticks": ""
            },
            "colorscale": [
             [
              0,
              "#0d0887"
             ],
             [
              0.1111111111111111,
              "#46039f"
             ],
             [
              0.2222222222222222,
              "#7201a8"
             ],
             [
              0.3333333333333333,
              "#9c179e"
             ],
             [
              0.4444444444444444,
              "#bd3786"
             ],
             [
              0.5555555555555556,
              "#d8576b"
             ],
             [
              0.6666666666666666,
              "#ed7953"
             ],
             [
              0.7777777777777778,
              "#fb9f3a"
             ],
             [
              0.8888888888888888,
              "#fdca26"
             ],
             [
              1,
              "#f0f921"
             ]
            ],
            "type": "surface"
           }
          ],
          "table": [
           {
            "cells": {
             "fill": {
              "color": "#EBF0F8"
             },
             "line": {
              "color": "white"
             }
            },
            "header": {
             "fill": {
              "color": "#C8D4E3"
             },
             "line": {
              "color": "white"
             }
            },
            "type": "table"
           }
          ]
         },
         "layout": {
          "annotationdefaults": {
           "arrowcolor": "#2a3f5f",
           "arrowhead": 0,
           "arrowwidth": 1
          },
          "autotypenumbers": "strict",
          "coloraxis": {
           "colorbar": {
            "outlinewidth": 0,
            "ticks": ""
           }
          },
          "colorscale": {
           "diverging": [
            [
             0,
             "#8e0152"
            ],
            [
             0.1,
             "#c51b7d"
            ],
            [
             0.2,
             "#de77ae"
            ],
            [
             0.3,
             "#f1b6da"
            ],
            [
             0.4,
             "#fde0ef"
            ],
            [
             0.5,
             "#f7f7f7"
            ],
            [
             0.6,
             "#e6f5d0"
            ],
            [
             0.7,
             "#b8e186"
            ],
            [
             0.8,
             "#7fbc41"
            ],
            [
             0.9,
             "#4d9221"
            ],
            [
             1,
             "#276419"
            ]
           ],
           "sequential": [
            [
             0,
             "#0d0887"
            ],
            [
             0.1111111111111111,
             "#46039f"
            ],
            [
             0.2222222222222222,
             "#7201a8"
            ],
            [
             0.3333333333333333,
             "#9c179e"
            ],
            [
             0.4444444444444444,
             "#bd3786"
            ],
            [
             0.5555555555555556,
             "#d8576b"
            ],
            [
             0.6666666666666666,
             "#ed7953"
            ],
            [
             0.7777777777777778,
             "#fb9f3a"
            ],
            [
             0.8888888888888888,
             "#fdca26"
            ],
            [
             1,
             "#f0f921"
            ]
           ],
           "sequentialminus": [
            [
             0,
             "#0d0887"
            ],
            [
             0.1111111111111111,
             "#46039f"
            ],
            [
             0.2222222222222222,
             "#7201a8"
            ],
            [
             0.3333333333333333,
             "#9c179e"
            ],
            [
             0.4444444444444444,
             "#bd3786"
            ],
            [
             0.5555555555555556,
             "#d8576b"
            ],
            [
             0.6666666666666666,
             "#ed7953"
            ],
            [
             0.7777777777777778,
             "#fb9f3a"
            ],
            [
             0.8888888888888888,
             "#fdca26"
            ],
            [
             1,
             "#f0f921"
            ]
           ]
          },
          "colorway": [
           "#636efa",
           "#EF553B",
           "#00cc96",
           "#ab63fa",
           "#FFA15A",
           "#19d3f3",
           "#FF6692",
           "#B6E880",
           "#FF97FF",
           "#FECB52"
          ],
          "font": {
           "color": "#2a3f5f"
          },
          "geo": {
           "bgcolor": "white",
           "lakecolor": "white",
           "landcolor": "#E5ECF6",
           "showlakes": true,
           "showland": true,
           "subunitcolor": "white"
          },
          "hoverlabel": {
           "align": "left"
          },
          "hovermode": "closest",
          "mapbox": {
           "style": "light"
          },
          "paper_bgcolor": "white",
          "plot_bgcolor": "#E5ECF6",
          "polar": {
           "angularaxis": {
            "gridcolor": "white",
            "linecolor": "white",
            "ticks": ""
           },
           "bgcolor": "#E5ECF6",
           "radialaxis": {
            "gridcolor": "white",
            "linecolor": "white",
            "ticks": ""
           }
          },
          "scene": {
           "xaxis": {
            "backgroundcolor": "#E5ECF6",
            "gridcolor": "white",
            "gridwidth": 2,
            "linecolor": "white",
            "showbackground": true,
            "ticks": "",
            "zerolinecolor": "white"
           },
           "yaxis": {
            "backgroundcolor": "#E5ECF6",
            "gridcolor": "white",
            "gridwidth": 2,
            "linecolor": "white",
            "showbackground": true,
            "ticks": "",
            "zerolinecolor": "white"
           },
           "zaxis": {
            "backgroundcolor": "#E5ECF6",
            "gridcolor": "white",
            "gridwidth": 2,
            "linecolor": "white",
            "showbackground": true,
            "ticks": "",
            "zerolinecolor": "white"
           }
          },
          "shapedefaults": {
           "line": {
            "color": "#2a3f5f"
           }
          },
          "ternary": {
           "aaxis": {
            "gridcolor": "white",
            "linecolor": "white",
            "ticks": ""
           },
           "baxis": {
            "gridcolor": "white",
            "linecolor": "white",
            "ticks": ""
           },
           "bgcolor": "#E5ECF6",
           "caxis": {
            "gridcolor": "white",
            "linecolor": "white",
            "ticks": ""
           }
          },
          "title": {
           "x": 0.05
          },
          "xaxis": {
           "automargin": true,
           "gridcolor": "white",
           "linecolor": "white",
           "ticks": "",
           "title": {
            "standoff": 15
           },
           "zerolinecolor": "white",
           "zerolinewidth": 2
          },
          "yaxis": {
           "automargin": true,
           "gridcolor": "white",
           "linecolor": "white",
           "ticks": "",
           "title": {
            "standoff": 15
           },
           "zerolinecolor": "white",
           "zerolinewidth": 2
          }
         }
        },
        "title": {
         "text": "Number of Aircraft Strikes for each state",
         "x": 0.5
        },
        "width": 800
       }
      }
     },
     "metadata": {},
     "output_type": "display_data"
    }
   ],
   "source": [
    "states_data = df[['State', 'Record ID']].groupby('State').count().reset_index().rename(columns={'Record ID': 'Count'})\n",
    "fig = px.choropleth(states_data,\n",
    "                    locations='State', \n",
    "                    locationmode=\"USA-states\", \n",
    "                    scope=\"usa\",\n",
    "                    color='Count',\n",
    "                    color_continuous_scale=\"Burg\",\n",
    "                    title='Number of Aircraft Strikes for each state')\n",
    "fig.update_layout(autosize=False, width=800, height=600)\n",
    "fig.update_layout(title_x = 0.5, font_size=18)\n",
    "        \n",
    "fig.show()"
   ]
  },
  {
   "cell_type": "code",
   "execution_count": null,
   "id": "e2b3fc5f-d266-4a42-ae04-e04d298de4b1",
   "metadata": {},
   "outputs": [],
   "source": []
  }
 ],
 "metadata": {
  "kernelspec": {
   "display_name": "Python 3 (ipykernel)",
   "language": "python",
   "name": "python3"
  },
  "language_info": {
   "codemirror_mode": {
    "name": "ipython",
    "version": 3
   },
   "file_extension": ".py",
   "mimetype": "text/x-python",
   "name": "python",
   "nbconvert_exporter": "python",
   "pygments_lexer": "ipython3",
   "version": "3.10.5"
  },
  "vscode": {
   "interpreter": {
    "hash": "e7370f93d1d0cde622a1f8e1c04877d8463912d04d973331ad4851f04de6915a"
   }
  }
 },
 "nbformat": 4,
 "nbformat_minor": 5
}
