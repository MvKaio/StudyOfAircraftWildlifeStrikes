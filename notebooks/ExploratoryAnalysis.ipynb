{
 "cells": [
  {
   "cell_type": "code",
   "execution_count": 1,
   "id": "e14a8da0-d367-44a2-b43d-126f2b592e01",
   "metadata": {},
   "outputs": [],
   "source": [
    "import pandas as pd"
   ]
  },
  {
   "cell_type": "code",
   "execution_count": 4,
   "id": "d91c744b-475a-4d82-8fe2-f2625849b0dc",
   "metadata": {},
   "outputs": [
    {
     "name": "stdout",
     "output_type": "stream",
     "text": [
      "<class 'pandas.core.frame.DataFrame'>\n",
      "RangeIndex: 174104 entries, 0 to 174103\n",
      "Data columns (total 66 columns):\n",
      " #   Column                Non-Null Count   Dtype  \n",
      "---  ------                --------------   -----  \n",
      " 0   Record ID             174104 non-null  int64  \n",
      " 1   Incident Year         174104 non-null  int64  \n",
      " 2   Incident Month        174104 non-null  int64  \n",
      " 3   Incident Day          174104 non-null  int64  \n",
      " 4   Operator ID           174104 non-null  object \n",
      " 5   Operator              174104 non-null  object \n",
      " 6   Aircraft              174104 non-null  object \n",
      " 7   Aircraft Type         133074 non-null  object \n",
      " 8   Aircraft Make         131051 non-null  object \n",
      " 9   Aircraft Model        122439 non-null  object \n",
      " 10  Aircraft Mass         127320 non-null  float64\n",
      " 11  Engine Make           123434 non-null  float64\n",
      " 12  Engine Model          121988 non-null  object \n",
      " 13  Engines               127342 non-null  float64\n",
      " 14  Engine Type           127282 non-null  object \n",
      " 15  Engine1 Position      126193 non-null  object \n",
      " 16  Engine2 Position      118715 non-null  float64\n",
      " 17  Engine3 Position      11659 non-null   object \n",
      " 18  Engine4 Position      3092 non-null    float64\n",
      " 19  Airport ID            174104 non-null  object \n",
      " 20  Airport               173814 non-null  object \n",
      " 21  State                 152128 non-null  object \n",
      " 22  FAA Region            155202 non-null  object \n",
      " 23  Warning Issued        76418 non-null   object \n",
      " 24  Flight Phase          118802 non-null  object \n",
      " 25  Visibility            109933 non-null  object \n",
      " 26  Precipitation         88322 non-null   object \n",
      " 27  Height                103677 non-null  float64\n",
      " 28  Speed                 71258 non-null   float64\n",
      " 29  Distance              99713 non-null   float64\n",
      " 30  Species ID            174104 non-null  object \n",
      " 31  Species Name          174024 non-null  object \n",
      " 32  Species Quantity      169627 non-null  object \n",
      " 33  Flight Impact         99465 non-null   object \n",
      " 34  Fatalities            565 non-null     float64\n",
      " 35  Injuries              229 non-null     float64\n",
      " 36  Aircraft Damage       174104 non-null  int64  \n",
      " 37  Radome Strike         174104 non-null  int64  \n",
      " 38  Radome Damage         174104 non-null  int64  \n",
      " 39  Windshield Strike     174104 non-null  int64  \n",
      " 40  Windshield Damage     174104 non-null  int64  \n",
      " 41  Nose Strike           174104 non-null  int64  \n",
      " 42  Nose Damage           174104 non-null  int64  \n",
      " 43  Engine1 Strike        174104 non-null  int64  \n",
      " 44  Engine1 Damage        174104 non-null  int64  \n",
      " 45  Engine2 Strike        174104 non-null  int64  \n",
      " 46  Engine2 Damage        174104 non-null  int64  \n",
      " 47  Engine3 Strike        174104 non-null  int64  \n",
      " 48  Engine3 Damage        174104 non-null  int64  \n",
      " 49  Engine4 Strike        174104 non-null  int64  \n",
      " 50  Engine4 Damage        174104 non-null  int64  \n",
      " 51  Engine Ingested       174104 non-null  int64  \n",
      " 52  Propeller Strike      174104 non-null  int64  \n",
      " 53  Propeller Damage      174104 non-null  int64  \n",
      " 54  Wing or Rotor Strike  174104 non-null  int64  \n",
      " 55  Wing or Rotor Damage  174104 non-null  int64  \n",
      " 56  Fuselage Strike       174104 non-null  int64  \n",
      " 57  Fuselage Damage       174104 non-null  int64  \n",
      " 58  Landing Gear Strike   174104 non-null  int64  \n",
      " 59  Landing Gear Damage   174104 non-null  int64  \n",
      " 60  Tail Strike           174104 non-null  int64  \n",
      " 61  Tail Damage           174104 non-null  int64  \n",
      " 62  Lights Strike         174104 non-null  int64  \n",
      " 63  Lights Damage         174104 non-null  int64  \n",
      " 64  Other Strike          174104 non-null  int64  \n",
      " 65  Other Damage          174104 non-null  int64  \n",
      "dtypes: float64(10), int64(34), object(22)\n",
      "memory usage: 87.7+ MB\n"
     ]
    }
   ],
   "source": [
    "df = pd.read_csv('../database/aircraft_wildlife_strikes.zip', compression='zip', low_memory=False)\n",
    "df.info()"
   ]
  },
  {
   "cell_type": "code",
   "execution_count": null,
   "id": "8967c501-bb7c-4d14-af4e-879084511223",
   "metadata": {},
   "outputs": [],
   "source": []
  }
 ],
 "metadata": {
  "kernelspec": {
   "display_name": "Python 3 (ipykernel)",
   "language": "python",
   "name": "python3"
  },
  "language_info": {
   "codemirror_mode": {
    "name": "ipython",
    "version": 3
   },
   "file_extension": ".py",
   "mimetype": "text/x-python",
   "name": "python",
   "nbconvert_exporter": "python",
   "pygments_lexer": "ipython3",
   "version": "3.9.7"
  }
 },
 "nbformat": 4,
 "nbformat_minor": 5
}
