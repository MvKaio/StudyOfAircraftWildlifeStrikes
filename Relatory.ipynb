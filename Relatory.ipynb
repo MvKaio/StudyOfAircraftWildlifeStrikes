{
 "cells": [
  {
   "cell_type": "markdown",
   "id": "956628d7-7ef0-4377-95ca-d98459403528",
   "metadata": {},
   "source": [
    "# Study of Wildlife Aircraft Strikes\n",
    "#### Project developed as a requisite to the discipline of Introduction to Data Science @ UFMG - 2022/1\n",
    "\n",
    "Students:\n",
    "\n",
    "Kaio Henrique Masse Vieira - 2020006710\n",
    "\n",
    "Michel Barros da Fonseca - 2020006906\n",
    "\n",
    "[Github Repository](https://github.com/MvKaio/StudyOfAircraftWildlifeStrikes)\n",
    "\n",
    "[YouTube Video](https://www.youtube.com/watch?v=WAujXrahw5U)"
   ]
  },
  {
   "cell_type": "markdown",
   "id": "66372028-954b-4f4a-84df-6d171144c107",
   "metadata": {},
   "source": [
    "### Database Overview"
   ]
  },
  {
   "cell_type": "markdown",
   "id": "a08369e4-1b0b-4829-b7f7-84941f29c97d",
   "metadata": {},
   "source": [
    "This database contains hundreds of thousands of reports of damages caused by birds and other animals to aircraft over the years in the United States, from $1990$ to $2015$ published by the Federal Aviation Association. Most reports contain detailed information about the incident, that can be interesting to explore."
   ]
  },
  {
   "cell_type": "markdown",
   "id": "abd3fa70-1861-434d-91d7-34b98157bebd",
   "metadata": {},
   "source": [
    "<table class=\"dataframe\" border=\"1\">\n",
    "  <thead>\n",
    "    <tr style=\"text-align: right;\">\n",
    "      <th></th>\n",
    "      <th>Column</th>\n",
    "      <th>Non-Null Count</th>\n",
    "      <th>Dtype</th>\n",
    "       <th></th>\n",
    "      <th>Column</th>\n",
    "      <th>Non-Null Count</th>\n",
    "        <th>Dtype</th>\n",
    "      <th></th>\n",
    "      <th>Column</th>\n",
    "      <th>Non-Null Count</th>\n",
    "      <th>Dtype</th>\n",
    "        <th></th>\n",
    "      <th>Column</th>\n",
    "      <th>Non-Null Count</th>\n",
    "      <th>Dtype</th>\n",
    "    </tr>\n",
    "  </thead>\n",
    "  <tbody>\n",
    "    <tr>\n",
    "      <th>0</th>\n",
    "      <td>Record ID</td>\n",
    "      <td>174104 </td>\n",
    "      <td>int64</td>\n",
    "       <th>16</th>\n",
    "      <td>Engine2 Position</td>\n",
    "      <td>118715 </td>\n",
    "      <td>float64</td>\n",
    "      <th>32</th>\n",
    "      <td>Species Quantity</td>\n",
    "      <td>169627 </td>\n",
    "      <td>object</td>\n",
    "       <th>48</th>\n",
    "      <td>Engine3 Damage</td>\n",
    "      <td>174104 </td>\n",
    "      <td>int64</td>\n",
    "    </tr>\n",
    "    <tr>\n",
    "      <th>1</th>\n",
    "      <td>Incident Year</td>\n",
    "      <td>174104 </td>\n",
    "      <td>int64</td>\n",
    "      <th>17</th>\n",
    "      <td>Engine3 Position</td>\n",
    "      <td>11659 </td>\n",
    "      <td>object</td>\n",
    "       <th>33</th>\n",
    "      <td>Flight Impact</td>\n",
    "      <td>99465 </td>\n",
    "      <td>object</td>\n",
    "      <th>49</th>\n",
    "      <td>Engine4 Strike</td>\n",
    "      <td>174104 </td>\n",
    "      <td>int64</td>\n",
    "    </tr>\n",
    "    <tr>\n",
    "      <th>2</th>\n",
    "      <td>Incident Month</td>\n",
    "      <td>174104 </td>\n",
    "      <td>int64</td>\n",
    "      <th>18</th>\n",
    "      <td>Engine4 Position</td>\n",
    "      <td>3092 </td>\n",
    "      <td>float64</td>\n",
    "        <th>34</th>\n",
    "      <td>Fatalities</td>\n",
    "      <td>565 </td>\n",
    "      <td>float64</td>\n",
    "              <th>50</th>\n",
    "      <td>Engine4 Damage</td>\n",
    "      <td>174104 </td>\n",
    "      <td>int64</td>\n",
    "    </tr>\n",
    "    <tr>\n",
    "      <th>3</th>\n",
    "      <td>Incident Day</td>\n",
    "      <td>174104 </td>\n",
    "      <td>int64</td>\n",
    "        <th>19</th>\n",
    "      <td>Airport ID</td>\n",
    "      <td>174104 </td>\n",
    "      <td>object</td>\n",
    "         <th>35</th>\n",
    "      <td>Injuries</td>\n",
    "      <td>229 </td>\n",
    "      <td>float64</td>\n",
    "              <th>51</th>\n",
    "      <td>Engine Ingested</td>\n",
    "      <td>174104 </td>\n",
    "      <td>int64</td>\n",
    "    </tr>\n",
    "    <tr>\n",
    "      <th>4</th>\n",
    "      <td>Operator ID</td>\n",
    "      <td>174104 </td>\n",
    "      <td>object</td>\n",
    "        <th>20</th>\n",
    "      <td>Airport</td>\n",
    "      <td>173814 </td>\n",
    "      <td>object</td>\n",
    "              <th>36</th>\n",
    "      <td>Aircraft Damage</td>\n",
    "      <td>174104 </td>\n",
    "      <td>int64</td>\n",
    "              <th>52</th>\n",
    "      <td>Propeller Strike</td>\n",
    "      <td>174104 </td>\n",
    "      <td>int64</td>\n",
    "    </tr>\n",
    "    <tr>\n",
    "      <th>5</th>\n",
    "      <td>Operator</td>\n",
    "      <td>174104 </td>\n",
    "      <td>object</td>\n",
    "         <th>21</th>\n",
    "      <td>State</td>\n",
    "      <td>152128 </td>\n",
    "      <td>object</td>\n",
    "              <th>37</th>\n",
    "      <td>Radome Strike</td>\n",
    "      <td>174104 </td>\n",
    "      <td>int64</td>\n",
    "              <th>53</th>\n",
    "      <td>Propeller Damage</td>\n",
    "      <td>174104 </td>\n",
    "      <td>int64</td>\n",
    "    </tr>\n",
    "    <tr>\n",
    "      <th>6</th>\n",
    "      <td>Aircraft</td>\n",
    "      <td>174104 </td>\n",
    "      <td>object</td>\n",
    "        <th>22</th>\n",
    "      <td>FAA Region</td>\n",
    "      <td>155202 </td>\n",
    "      <td>object</td>\n",
    "              <th>38</th>\n",
    "      <td>Radome Damage</td>\n",
    "      <td>174104 </td>\n",
    "      <td>int64</td>\n",
    "              <th>54</th>\n",
    "      <td>Wing or Rotor Strike</td>\n",
    "      <td>174104 </td>\n",
    "      <td>int64</td>\n",
    "    </tr>\n",
    "    <tr>\n",
    "      <th>7</th>\n",
    "      <td>Aircraft Type</td>\n",
    "      <td>133074 </td>\n",
    "      <td>object</td>\n",
    "        <th>23</th>\n",
    "      <td>Warning Issued</td>\n",
    "      <td>76418 </td>\n",
    "      <td>object</td>\n",
    "              <th>39</th>\n",
    "      <td>Windshield Strike</td>\n",
    "      <td>174104 </td>\n",
    "      <td>int64</td>\n",
    "              <th>55</th>\n",
    "      <td>Wing or Rotor Damage</td>\n",
    "      <td>174104 </td>\n",
    "      <td>int64</td>\n",
    "    </tr>\n",
    "      <tr>\n",
    "      <th>8</th>\n",
    "      <td>Aircraft Make</td>\n",
    "      <td>131051 </td>\n",
    "      <td>object</td>\n",
    "           <th>24</th>\n",
    "      <td>Flight Phase</td>\n",
    "      <td>118802 </td>\n",
    "      <td>object</td>\n",
    "                <th>40</th>\n",
    "      <td>Windshield Damage</td>\n",
    "      <td>174104 </td>\n",
    "      <td>int64</td>\n",
    "                <th>56</th>\n",
    "      <td>Fuselage Strike</td>\n",
    "      <td>174104 </td>\n",
    "      <td>int64</td>\n",
    "    </tr>\n",
    "    <tr>\n",
    "      <th>9</th>\n",
    "      <td>Aircraft Model</td>\n",
    "      <td>122439 </td>\n",
    "      <td>object</td>\n",
    "        <th>25</th>\n",
    "      <td>Visibility</td>\n",
    "      <td>109933 </td>\n",
    "      <td>object</td>\n",
    "              <th>41</th>\n",
    "      <td>Nose Strike</td>\n",
    "      <td>174104 </td>\n",
    "      <td>int64</td>\n",
    "              <th>57</th>\n",
    "      <td>Fuselage Damage</td>\n",
    "      <td>174104 </td>\n",
    "      <td>int64</td>\n",
    "    </tr>\n",
    "    <tr>\n",
    "      <th>10</th>\n",
    "      <td>Aircraft Mass</td>\n",
    "      <td>127320 </td>\n",
    "      <td>float64</td>\n",
    "              <th>26</th>\n",
    "      <td>Precipitation</td>\n",
    "      <td>88322 </td>\n",
    "      <td>object</td>\n",
    "              <th>42</th>\n",
    "      <td>Nose Damage</td>\n",
    "      <td>174104 </td>\n",
    "      <td>int64</td>\n",
    "              <th>58</th>\n",
    "      <td>Landing Gear Strike</td>\n",
    "      <td>174104 </td>\n",
    "      <td>int64</td>\n",
    "    </tr>\n",
    "    <tr>\n",
    "      <th>11</th>\n",
    "      <td>Engine Make</td>\n",
    "      <td>123434 </td>\n",
    "      <td>float64</td>\n",
    "        <th>27</th>\n",
    "      <td>Height</td>\n",
    "      <td>103677 </td>\n",
    "      <td>float64</td>\n",
    "              <th>43</th>\n",
    "      <td>Engine1 Strike</td>\n",
    "      <td>174104 </td>\n",
    "      <td>int64</td>\n",
    "              <th>59</th>\n",
    "      <td>Landing Gear Damage</td>\n",
    "      <td>174104 </td>\n",
    "      <td>int64</td>\n",
    "    </tr>\n",
    "    <tr>\n",
    "      <th>12</th>\n",
    "      <td>Engine Model</td>\n",
    "      <td>121988 </td>\n",
    "      <td>object</td>\n",
    "        <th>28</th>\n",
    "      <td>Speed</td>\n",
    "      <td>71258 </td>\n",
    "      <td>float64</td>\n",
    "              <th>44</th>\n",
    "      <td>Engine1 Damage</td>\n",
    "      <td>174104 </td>\n",
    "      <td>int64</td>\n",
    "              <th>60</th>\n",
    "      <td>Tail Strike</td>\n",
    "      <td>174104 </td>\n",
    "      <td>int64</td>\n",
    "    </tr>\n",
    "    <tr>\n",
    "      <th>13</th>\n",
    "      <td>Engines</td>\n",
    "      <td>127342 </td>\n",
    "      <td>float64</td>\n",
    "        <th>29</th>\n",
    "      <td>Distance</td>\n",
    "      <td>99713 </td>\n",
    "      <td>float64</td>\n",
    "              <th>45</th>\n",
    "      <td>Engine2 Strike</td>\n",
    "      <td>174104 </td>\n",
    "      <td>int64</td>\n",
    "              <th>61</th>\n",
    "      <td>Tail Damage</td>\n",
    "      <td>174104 </td>\n",
    "      <td>int64</td>\n",
    "    </tr>\n",
    "    <tr>\n",
    "      <th>14</th>\n",
    "      <td>Engine Type</td>\n",
    "      <td>127282 </td>\n",
    "      <td>object</td>\n",
    "        <th>30</th>\n",
    "      <td>Species ID</td>\n",
    "      <td>174104 </td>\n",
    "      <td>object</td>\n",
    "          <th>46</th>\n",
    "      <td>Engine2 Damage</td>\n",
    "      <td>174104 </td>\n",
    "      <td>int64</td>\n",
    "              <th>62</th>\n",
    "      <td>Lights Strike</td>\n",
    "      <td>174104 </td>\n",
    "      <td>int64</td>\n",
    "    </tr>\n",
    "    <tr>\n",
    "      <th>15</th>\n",
    "      <td>Engine1 Position</td>\n",
    "      <td>126193 </td>\n",
    "      <td>object</td>\n",
    "        <th>31</th>\n",
    "      <td>Species Name</td>\n",
    "      <td>174024 </td>\n",
    "      <td>object</td>\n",
    "          <th>47</th>\n",
    "      <td>Engine3 Strike</td>\n",
    "      <td>174104 </td>\n",
    "      <td>int64</td>\n",
    "              <th>63</th>\n",
    "      <td>Lights Damage</td>\n",
    "      <td>174104 </td>\n",
    "      <td>int64</td>\n",
    "    </tr>\n",
    "    <tr>\n",
    "          <th></th>\n",
    "      <td></td>\n",
    "      <td> </td>\n",
    "      <td></td>\n",
    "      <th></th>\n",
    "          <th></th>\n",
    "      <td></td>\n",
    "      <th></th>\n",
    "        <th></th>\n",
    "      <td></td>\n",
    "      <td> </td>\n",
    "      <td></td>\n",
    "      <th>64</th>\n",
    "      <td>Other Strike</td>\n",
    "      <td>174104 </td>\n",
    "      <td>int64</td>\n",
    "      </tr>\n",
    "    <tr>\n",
    "      <th></th>\n",
    "      <td></td>\n",
    "      <td> </td>\n",
    "      <td></td>\n",
    "      <th></th>\n",
    "          <th></th>\n",
    "      <td></td>\n",
    "      <th></th>\n",
    "        <th></th>\n",
    "      <td></td>\n",
    "      <td> </td>\n",
    "      <td></td>\n",
    "      <th>65</th>\n",
    "      <td>Other Damage</td>\n",
    "      <td>174104 </td>\n",
    "      <td>int64</td>\n",
    "    </tr>\n",
    "    </tbody>\n",
    "</table>"
   ]
  },
  {
   "cell_type": "markdown",
   "id": "adb58f99-ed57-41a1-9f19-f23d1f341d2a",
   "metadata": {},
   "source": [
    "![Number of strikes reported over the years](images/accidents_over_the_years.png)"
   ]
  },
  {
   "cell_type": "markdown",
   "id": "dd63b38b-d4fb-4ac0-98b4-42ce3eaaa5df",
   "metadata": {},
   "source": [
    "### Motivation"
   ]
  },
  {
   "cell_type": "markdown",
   "id": "6616eb1f-23c8-41a1-a5fa-2eb0a50055c2",
   "metadata": {},
   "source": [
    "In our project, we tried to answer the following questions (and some more).\n",
    "\n",
    "- Which Bird Species are the most common in accidents?\n",
    "- In general, what aircraft parts are more affected?\n",
    "- In which Flight Phases are accidents more common?\n",
    "- Which States suffer more with Wildlife Aircraft Strikes?\n",
    "- Are there times of the year when more accidents occur?\n",
    "- Can we use a classifier to identify the species involved in an accident? What about the action that should be taken in that case?"
   ]
  },
  {
   "cell_type": "markdown",
   "id": "b630f881-2db8-4384-8edb-26b7fc660164",
   "metadata": {},
   "source": [
    "### Which Bird Species are the most common in accidents?"
   ]
  },
  {
   "cell_type": "markdown",
   "id": "931a246d-a36a-4626-8f84-0e0e98264fc4",
   "metadata": {},
   "source": [
    "![Top 10 Bird Species](images/most_common_birds.png)"
   ]
  },
  {
   "cell_type": "markdown",
   "id": "7554fa96-c566-4de8-87e9-1a1ba5002acd",
   "metadata": {},
   "source": [
    "### In general, what aircraft parts are more affected?"
   ]
  },
  {
   "cell_type": "markdown",
   "id": "e15b627c-e9bf-486d-bfff-e5311d9ee054",
   "metadata": {},
   "source": [
    "![](images/most_damaged_parts.png)"
   ]
  },
  {
   "cell_type": "markdown",
   "id": "6c72bf15-3562-4d56-a712-337112906a48",
   "metadata": {},
   "source": [
    "### In which Flight Phases are accidents more common?"
   ]
  },
  {
   "cell_type": "markdown",
   "id": "af0a405e-8b32-4dd3-9210-5f50525bbbc5",
   "metadata": {},
   "source": [
    "![Number of strikes grouped by the flight phase](images/flight_phases.png)"
   ]
  },
  {
   "cell_type": "markdown",
   "id": "577f35dd-6b08-4d5b-8ee0-c7bc851a4cb4",
   "metadata": {},
   "source": [
    "According to the figure below from [Flight Loads Analysis of Business Jets](https://www.researchgate.net/publication/315113895_Flight_Loads_Analysis_of_Business_Jets) from [Kamran Rokhsaz](https://www.researchgate.net/profile/Kamran-Rokhsaz) and [Linda K. Kliment](https://www.researchgate.net/scientific-contributions/Linda-K-Kliment-2009566973), we can conclude that most strikes happen next to the landing stages, while it's uncommon for strikes to happen when the plane is on the ground.\n",
    "\n",
    "*Note: Cruise and En route are different names to the same flight phase.* \n",
    "\n",
    "![](https://i.imgur.com/oRxoroQ.png)"
   ]
  },
  {
   "cell_type": "markdown",
   "id": "946f0a02-0891-426a-b3a3-e04cf51561c7",
   "metadata": {},
   "source": [
    "### Which States suffer more with Wildlife Aircraft Strikes?"
   ]
  },
  {
   "cell_type": "markdown",
   "id": "eaf76a58-4934-4c3d-ba68-3f698c048128",
   "metadata": {},
   "source": [
    "![Number of Aircraft Strikes for each state](images/states.png)"
   ]
  },
  {
   "cell_type": "markdown",
   "id": "c9fbc17e-04c1-483b-91dd-76c5fbfebdc9",
   "metadata": {},
   "source": [
    "## Are there times of the year when more accidents occur?\n",
    "\n",
    "This is a natural question to ask, taken into account that seasons influences animal's behavior. If this effect impacts the occurrences of strikes, we might perceive some seasonal tendencies in the data, which could motivate preemptive actions at the corresponding times of the year.\n",
    "\n",
    "According to [this](https://www.perkypet.com/advice/bird-watching/bird-migration-facts/timing) source, the birds migrate to the south during late summer through the autumn and come back in the late winter. Our data also shows that most strike occurences are in Texas, Florida and California, which are southern states."
   ]
  },
  {
   "cell_type": "markdown",
   "id": "c23a7639-d7fa-42af-9c8d-0933a28c2b14",
   "metadata": {},
   "source": [
    "![Number of incidents over the months](images/accidents_over_the_months.png)"
   ]
  },
  {
   "cell_type": "markdown",
   "id": "8a59e020-6bd5-445a-ac72-df6974863440",
   "metadata": {},
   "source": [
    "![Number of incidents over the seasons](images/seasons.png)"
   ]
  },
  {
   "cell_type": "markdown",
   "id": "bebf6080-f78a-4191-9b00-447c9aba29d6",
   "metadata": {
    "tags": []
   },
   "source": [
    "### Hypothesis 1: Most wildlife strikes occur in Summer and Autumn\n",
    "\n",
    "In order to test this hypothesis, we can run an experiment with bootstrap. We take $1000$ samples of the size of our dataframe ($163956$ rows) from the data with reposition and compute an approximation to the confidence interval from the population. The statistic considered is the number of strikes that occur in the Autumn and the Summer in comparison with the total number of strikes in the sample.\n",
    "\n",
    "In the conditions of the experiment, the **null hypothesis** states that there's no difference between the number of incidents that happen at the each season. Because of this, the number of incidents observed in the `Summer` and `Autumn` should be half of the total number of incidents; that is, $81987$ from $163956$ incidents should happen in the `Summer` or the `Autumn`.\n",
    "\n",
    "As it is important that the resampling size corresponds to the size of the whole sample, and our dataset is large, it takes a few minutes to run the bootstrap."
   ]
  },
  {
   "cell_type": "markdown",
   "id": "cb555821-d741-42d7-90dd-ca1d89dd8858",
   "metadata": {},
   "source": [
    "![](images/bootstrap_seasons.png)"
   ]
  },
  {
   "cell_type": "markdown",
   "id": "afe0c410-a8c7-40c1-919d-23ce5fcc0d5c",
   "metadata": {},
   "source": [
    "## Classification\n",
    "\n",
    "We'll explore three ideas, using the K-Neighbors Classifier:\n",
    "\n",
    "- Classify the `Species`, filtering only the $10$ most common birds\n",
    "- Predict the `Species Quantity`, which is already given in a categorical manner\n",
    "- Infer what action the pilot would take in that accident, given in the column `Flight Impact`"
   ]
  },
  {
   "cell_type": "markdown",
   "id": "27453e70-13db-4c39-90bb-729d107b826c",
   "metadata": {},
   "source": [
    "### Species ID"
   ]
  },
  {
   "cell_type": "markdown",
   "id": "1ab6ea0f-c759-49d6-8f88-49c4695daade",
   "metadata": {},
   "source": [
    "![](images/classification_species.png)"
   ]
  },
  {
   "cell_type": "markdown",
   "id": "f9427e3b-5728-47ff-a057-a61b9fe5948d",
   "metadata": {},
   "source": [
    "![](images/scatter_species.png)"
   ]
  },
  {
   "cell_type": "markdown",
   "id": "07ae9a69-0ed8-45aa-80ad-dfa7d062634a",
   "metadata": {},
   "source": [
    "### Species Quantity"
   ]
  },
  {
   "cell_type": "markdown",
   "id": "264784ef-0a12-4878-867f-e3aae61a0b66",
   "metadata": {},
   "source": [
    "![](images/classification_quantity.png)"
   ]
  },
  {
   "cell_type": "markdown",
   "id": "d50da63b-b332-43f5-9d54-93c5d8e93158",
   "metadata": {},
   "source": [
    "![](images/scatter_quantity.png)"
   ]
  }
 ],
 "metadata": {
  "kernelspec": {
   "display_name": "Python 3 (ipykernel)",
   "language": "python",
   "name": "python3"
  },
  "language_info": {
   "codemirror_mode": {
    "name": "ipython",
    "version": 3
   },
   "file_extension": ".py",
   "mimetype": "text/x-python",
   "name": "python",
   "nbconvert_exporter": "python",
   "pygments_lexer": "ipython3",
   "version": "3.9.7"
  },
  "vscode": {
   "interpreter": {
    "hash": "e7370f93d1d0cde622a1f8e1c04877d8463912d04d973331ad4851f04de6915a"
   }
  }
 },
 "nbformat": 4,
 "nbformat_minor": 5
}
